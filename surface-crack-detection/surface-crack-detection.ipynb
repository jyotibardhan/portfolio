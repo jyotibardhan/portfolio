{
 "cells": [
  {
   "cell_type": "code",
   "execution_count": null,
   "id": "5b3dc387",
   "metadata": {},
   "outputs": [],
   "source": [
    "import zipfile\n",
    "\n",
    "zip_ref = zipfile.ZipFile('C:/Users/Jyotirmoy Bardhan/Downloads/surface-crack-detection.zip','r')\n",
    "\n",
    "zip_ref.extractall('C:/Users/Jyotirmoy Bardhan/Downloads/surface-crack-detection')\n",
    "\n",
    "zip_ref.close() \n",
    "\n",
    "import os\n",
    "\n",
    "import shutil\n",
    "\n",
    "import warnings\n",
    "\n",
    "import tensorflow as tf\n",
    "\n",
    "from tensorflow.keras.preprocessing.image import ImageDataGenerator\n",
    "\n",
    "from tensorflow import keras\n",
    "\n",
    "from keras.api._v2.keras import activations\n",
    "\n",
    "import h5py\n",
    "\n",
    "from keras.models import load_model\n",
    "\n",
    "warnings.filterwarnings('ignore')\n",
    "\n",
    "tf.__version__"
   ]
  },
  {
   "cell_type": "code",
   "execution_count": null,
   "id": "97e98fd7",
   "metadata": {},
   "outputs": [],
   "source": [
    "shutil.move(\"C:/Users/Jyotirmoy Bardhan/Downloads/surface-crack-detection/Negative\",\"C:/Users/Jyotirmoy Bardhan/Downloads/surface-crack-detection/crack detection/Negative\")\n",
    "\n",
    "shutil.move(\"C:/Users/Jyotirmoy Bardhan/Downloads/surface-crack-detection/Positive\",\"C:/Users/Jyotirmoy Bardhan/Downloads/surface-crack-detection/crack detection/Positive\")\n",
    "\n",
    "train_path=\"C:/Users/Jyotirmoy Bardhan/Downloads/surface-crack-detection/crack detection\"\n",
    "\n",
    "train_dg=ImageDataGenerator(rescale=1./255,horizontal_flip=True,vertical_flip=True, zoom_range=0.2,shear_range=0.2,width_shift_range=0.2,height_shift_range=0.2,validation_split=0.2)\n",
    "\n",
    "train = train_dg.flow_from_directory(train_path,target_size=(224,224),color_mode=\"rgb\",class_mode=\"binary\",batch_size=32, subset=\"training\")\n",
    "\n",
    "val = train_dg.flow_from_directory(train_path,target_size=(224,224),color_mode=\"rgb\",class_mode=\"binary\",batch_size=32,subset=\"validation\") \n",
    "\n",
    "train.class_indices\n",
    "\n",
    "train.class_indices"
   ]
  },
  {
   "cell_type": "code",
   "execution_count": null,
   "id": "680e7635",
   "metadata": {},
   "outputs": [],
   "source": [
    "model= keras.Sequential()\n",
    "\n",
    "model.add(keras.layers.Conv2D(32,(3,3),activation='relu',input_shape=(224,224,3)))\n",
    "\n",
    "model.add(keras.layers.MaxPool2D(2,2))\n",
    "\n",
    "model.add(keras.layers.Conv2D(64,(3,3),activation='relu'))\n",
    "\n",
    "\n",
    "model.add(keras.layers.MaxPool2D(2,2))\n",
    "\n",
    "model.add(keras.layers.Conv2D(128,(3,3),activation='relu'))\n",
    "\n",
    "\n",
    "model.add(keras.layers.MaxPool2D(2,2))\n",
    "\n",
    "model.add(keras.layers.Conv2D(256,(3,3),activation='relu'))\n",
    "\n",
    "\n",
    "model.add(keras.layers.MaxPool2D(2,2))\n",
    "\n",
    "model.add(keras.layers.Flatten())\n",
    "\n",
    "\n",
    "model.add(keras.layers.Dense(128,activation='relu'))\n",
    "\n",
    "model.add(keras.layers.Dense(1,activation='sigmoid'))\n",
    "\n",
    "model.summary()"
   ]
  },
  {
   "cell_type": "code",
   "execution_count": null,
   "id": "bde89e25",
   "metadata": {},
   "outputs": [],
   "source": [
    "model.compile(optimizer='adam',loss='binary_crossentropy',metrics=['accuracy'])\n",
    "\n",
    "r = model.fit(train,epochs=3,validation_data= val) \n",
    "\n",
    "score= model.evaluate(val)\n",
    "\n",
    "print('test aqccuracy :',score[1])\n",
    "\n",
    "print('test aqccuracy :',score[1]*100)\n",
    "\n",
    "model.save(\"C:/Users/Jyotirmoy Bardhan/Downloads/surface-crack-detection/crack_Classifier.h5\")"
   ]
  }
 ],
 "metadata": {
  "kernelspec": {
   "display_name": "Python 3 (ipykernel)",
   "language": "python",
   "name": "python3"
  },
  "language_info": {
   "codemirror_mode": {
    "name": "ipython",
    "version": 3
   },
   "file_extension": ".py",
   "mimetype": "text/x-python",
   "name": "python",
   "nbconvert_exporter": "python",
   "pygments_lexer": "ipython3",
   "version": "3.9.12"
  }
 },
 "nbformat": 4,
 "nbformat_minor": 5
}
